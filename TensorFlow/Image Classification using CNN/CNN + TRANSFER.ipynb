{
  "nbformat": 4,
  "nbformat_minor": 0,
  "metadata": {
    "colab": {
      "name": "Untitled2.ipynb",
      "provenance": []
    },
    "kernelspec": {
      "name": "python3",
      "display_name": "Python 3"
    },
    "accelerator": "GPU"
  },
  "cells": [
    {
      "cell_type": "markdown",
      "metadata": {
        "id": "WozHykjlfksP"
      },
      "source": [
        "IMPORTING STUFFS"
      ]
    },
    {
      "cell_type": "code",
      "metadata": {
        "id": "A7yYTxbpW068"
      },
      "source": [
        "import tensorflow as tf\n",
        "import numpy as np\n",
        "import matplotlib.pyplot as plt\n",
        "import os\n",
        "from tensorflow.keras.preprocessing.image import ImageDataGenerator"
      ],
      "execution_count": 1,
      "outputs": []
    },
    {
      "cell_type": "markdown",
      "metadata": {
        "id": "RbeIzcVMhZxn"
      },
      "source": [
        "DOWNLOADING DOGS VS CATS DATASET"
      ]
    },
    {
      "cell_type": "code",
      "metadata": {
        "id": "Xn1lGmeuhg-u",
        "colab": {
          "base_uri": "https://localhost:8080/"
        },
        "outputId": "21a9ad9e-5622-47e2-c464-1f75a087bd5c"
      },
      "source": [
        "URL_DS  = 'https://storage.googleapis.com/mledu-datasets/cats_and_dogs_filtered.zip'\n",
        "zip_dir = tf.keras.utils.get_file('cats_and_dogs.zip',origin=URL_DS,extract=True) # returns the extracted zip\n",
        "ds_dir = os.path.dirname(zip_dir) # stores the directory adress of the extracted folder"
      ],
      "execution_count": 2,
      "outputs": [
        {
          "output_type": "stream",
          "text": [
            "Downloading data from https://storage.googleapis.com/mledu-datasets/cats_and_dogs_filtered.zip\n",
            "68608000/68606236 [==============================] - 1s 0us/step\n"
          ],
          "name": "stdout"
        }
      ]
    },
    {
      "cell_type": "markdown",
      "metadata": {
        "id": "Jryy0rw7jgRp"
      },
      "source": [
        "CATS AND DOGS : \n",
        "\n",
        "---\n",
        "\n",
        "\n",
        "      1. TRAIN : \n",
        "                A. cats : contains several photos of cats\n",
        "                B. dogs : contains several photos of dogs\n",
        "      2. VALIDATION\n",
        "                A. cats : contains several photos of cats\n",
        "                B. dogs : contains several photos of dogs\n"
      ]
    },
    {
      "cell_type": "code",
      "metadata": {
        "id": "PigNrRUwkA8D"
      },
      "source": [
        "base_dir = os.path.join(ds_dir,'cats_and_dogs_filtered')\n",
        "\n",
        "train_dir = os.path.join(base_dir,'train') \n",
        "val_dir = os.path.join(base_dir,'validation')\n",
        "\n",
        "train_cats_dir = os.path.join(train_dir,'cats')\n",
        "train_dogs_dir = os.path.join(train_dir,'dogs')\n",
        "\n",
        "val_cats_dir = os.path.join(val_dir,'cats')\n",
        "val_dogs_dir = os.path.join(val_dir,'dogs')\n"
      ],
      "execution_count": 3,
      "outputs": []
    },
    {
      "cell_type": "markdown",
      "metadata": {
        "id": "_vXRKF-HmsEd"
      },
      "source": [
        "CALCULATING NUMBER OF CATS AND DOGS IMAGES PRESENT IN THE DATASET"
      ]
    },
    {
      "cell_type": "code",
      "metadata": {
        "id": "h8m9yGzKoL8C"
      },
      "source": [
        "num_train_cats = len(os.listdir(train_cats_dir))\n",
        "num_train_dogs = len(os.listdir(train_dogs_dir))\n",
        "\n",
        "num_val_cats = len(os.listdir(val_cats_dir))\n",
        "num_val_dogs = len(os.listdir(val_dogs_dir))\n",
        "\n",
        "num_train = num_train_cats+num_train_dogs\n",
        "num_val = num_val_cats+num_val_dogs"
      ],
      "execution_count": 4,
      "outputs": []
    },
    {
      "cell_type": "markdown",
      "metadata": {
        "id": "0_aAs3Gcq7mh"
      },
      "source": [
        "DECLARING GLOBAL VARIABLE FOR LATER USE"
      ]
    },
    {
      "cell_type": "code",
      "metadata": {
        "id": "bpDcrbOmq-dE"
      },
      "source": [
        "BATCH_SIZE = 100 #it means that our model will predict this many trainee examples and then calculate error to update the parameters\n",
        "IMG_SHAPE = 224"
      ],
      "execution_count": 6,
      "outputs": []
    },
    {
      "cell_type": "markdown",
      "metadata": {
        "id": "QlkhFr7UvXoV"
      },
      "source": [
        "FUNCTION TO DISPLAY IMAGES USING PLOT"
      ]
    },
    {
      "cell_type": "code",
      "metadata": {
        "id": "n0CfqeUIvchz"
      },
      "source": [
        "def PlotImages(Images_arr) :\n",
        "  \n",
        "  fig,axes = plt.subplot(1,5,figsize=(15,15)) # it will just print the first 5 images of the given array \n",
        "  axes = axes.flatten() #these are the indices of the subplots\n",
        "\n",
        "  for img,ax in zip(Images_arr,axes):\n",
        "    ax.imshow(img) #each subplot assigning a image to display\n",
        "  \n",
        "  plt.tight_layout()\n",
        "  plt.show() #finally we displayed to the user"
      ],
      "execution_count": 7,
      "outputs": []
    },
    {
      "cell_type": "markdown",
      "metadata": {
        "id": "ZxABcmlQRDxa"
      },
      "source": [
        "GENERATING THE DATASET USING IMAGE DATA SET GENERATOR\n"
      ]
    },
    {
      "cell_type": "markdown",
      "metadata": {
        "id": "Uv12tQV1ROS8"
      },
      "source": [
        "GETTING DATASET INTO CACHE MEMORY"
      ]
    },
    {
      "cell_type": "code",
      "metadata": {
        "colab": {
          "base_uri": "https://localhost:8080/"
        },
        "id": "FJYi1f4qRMXb",
        "outputId": "e8ebbbb1-37d8-4ea1-a35f-1bf029b31094"
      },
      "source": [
        "# ----------------------- GETTING TRAINING DATASET AND PERFORMING IMAGE AUGMENTATION ---------------------------------------------- #\n",
        "\n",
        "img_gen = ImageDataGenerator(\n",
        "      rescale=1./255,\n",
        "      rotation_range=40,\n",
        "      width_shift_range=0.2,\n",
        "      height_shift_range=0.2,\n",
        "      shear_range=0.2,\n",
        "      zoom_range=0.2,\n",
        "      horizontal_flip=True,\n",
        "      fill_mode='nearest')\n",
        "\n",
        "#so an object of Image Data Generator is created.\n",
        "\n",
        "#so we have added many method of augmentation into this, and hence a better training data now.\n",
        "\n",
        "train_dataset = img_gen.flow_from_directory(\n",
        "                                            batch_size = BATCH_SIZE,\n",
        "                                            directory = train_dir,\n",
        "                                            shuffle = True,\n",
        "                                            target_size = (IMG_SHAPE,IMG_SHAPE),\n",
        "                                            class_mode = 'binary'\n",
        "                                           )\n",
        "\n",
        "\n",
        "# ----------------------- GETTING VALIDATION DATASET  ---------------------------------------------------------------------------- #\n",
        "\n",
        "img_gen2 = ImageDataGenerator(\n",
        "      rescale = 1./255 )\n",
        "\n",
        "# Image augmentation not required for validation data set\n",
        "\n",
        "val_dataset = img_gen2.flow_from_directory(\n",
        "                                            batch_size=BATCH_SIZE,\n",
        "                                            directory = val_dir,\n",
        "                                            target_size = (IMG_SHAPE,IMG_SHAPE),\n",
        "                                            class_mode = 'binary'\n",
        "                                          )"
      ],
      "execution_count": 14,
      "outputs": [
        {
          "output_type": "stream",
          "text": [
            "Found 2000 images belonging to 2 classes.\n",
            "Found 1000 images belonging to 2 classes.\n"
          ],
          "name": "stdout"
        }
      ]
    },
    {
      "cell_type": "markdown",
      "metadata": {
        "id": "NchhODIyXPWK"
      },
      "source": [
        "A. SIMPLE CNN "
      ]
    },
    {
      "cell_type": "markdown",
      "metadata": {
        "id": "wA-v_3U8Xbcz"
      },
      "source": [
        "1. Defining the struture of the Network"
      ]
    },
    {
      "cell_type": "code",
      "metadata": {
        "id": "qnDLTOuvXTKt"
      },
      "source": [
        "# defining the structure of the network\n",
        "\n",
        "model = tf.keras.models.Sequential([\n",
        "                                  \n",
        "                tf.keras.layers.Conv2D(32,(3,3),activation='relu',input_shape=(150,150,3)),\n",
        "                tf.keras.layers.MaxPooling2D(2,2),\n",
        "\n",
        "                tf.keras.layers.Conv2D(64,(3,3),activation='relu'),\n",
        "                tf.keras.layers.MaxPooling2D(2,2),\n",
        "\n",
        "                tf.keras.layers.Conv2D(128,(3,3),activation='relu'),\n",
        "                tf.keras.layers.MaxPooling2D(2,2),\n",
        "\n",
        "                tf.keras.layers.Conv2D(128,(3,3),activation='relu'),\n",
        "                tf.keras.layers.MaxPooling2D(2,2),\n",
        "\n",
        "                tf.keras.layers.Dropout(0.15),\n",
        "                tf.keras.layers.Flatten(),\n",
        "                \n",
        "                tf.keras.layers.Dense(512,activation='relu'),\n",
        "                tf.keras.layers.Dense(2,activation='softmax')\n",
        "               ])"
      ],
      "execution_count": null,
      "outputs": []
    },
    {
      "cell_type": "markdown",
      "metadata": {
        "id": "MFruCDbrZ_EH"
      },
      "source": [
        "2.Compiling the model"
      ]
    },
    {
      "cell_type": "code",
      "metadata": {
        "id": "MX475Hq7aDE3"
      },
      "source": [
        "model.compile(\n",
        "    optimizer='adam',\n",
        "    loss=tf.keras.losses.SparseCategoricalCrossentropy(from_logits=True),\n",
        "    metrics=['accuracy']\n",
        ")\n",
        "\n",
        "# ------------------------------------ CREATING CALLBACKS ------------------------------------------------#\n",
        "\n",
        "es_callback = tf.keras.callbacks.EarlyStopping(patience=100) \n",
        "model_checkpoint = tf.keras.callbacks.ModelCheckpoint('best_model.h5') \n"
      ],
      "execution_count": null,
      "outputs": []
    },
    {
      "cell_type": "markdown",
      "metadata": {
        "id": "h4kPjr3uaygb"
      },
      "source": [
        "3. Training the model"
      ]
    },
    {
      "cell_type": "code",
      "metadata": {
        "id": "bJPueo1ba1mv"
      },
      "source": [
        "history = model.fit_generator(\n",
        "    train_dataset,\n",
        "    steps_per_epoch = int(np.ceil(num_train/ float(BATCH_SIZE))),\n",
        "    epochs = 500 ,\n",
        "    validation_data = val_dataset,\n",
        "    validation_steps = int(np.ceil(num_val/ float(BATCH_SIZE))),\n",
        "    callbacks = [es_callback,model_checkpoint]\n",
        ")\n",
        "\n",
        "#model = tf.keras.load_model('best_model.h5')"
      ],
      "execution_count": null,
      "outputs": []
    },
    {
      "cell_type": "markdown",
      "metadata": {
        "id": "yuFyc0vpm1xi"
      },
      "source": [
        "B. TRANSFER LEARNING : BEST ACCURACY"
      ]
    },
    {
      "cell_type": "markdown",
      "metadata": {
        "id": "lFfQxm2noSYs"
      },
      "source": [
        "IMPORTING REQUIRED MODULES"
      ]
    },
    {
      "cell_type": "code",
      "metadata": {
        "id": "OIPPvcpzoWZm"
      },
      "source": [
        "import tensorflow_hub as hub\n",
        "import tensorflow_datasets as tfds\n",
        "# ----- Below code supresses the log messages produced by tensorflow -------- #\n",
        "import logging\n",
        "logger = tf.get_logger()\n",
        "logger.setLevel(logging.ERROR)"
      ],
      "execution_count": 15,
      "outputs": []
    },
    {
      "cell_type": "markdown",
      "metadata": {
        "id": "K1mBdz2qrWdX"
      },
      "source": [
        "We would be donwloading the already trained model for image classification without its final layer"
      ]
    },
    {
      "cell_type": "code",
      "metadata": {
        "id": "fPSCCEBesC7a"
      },
      "source": [
        "# --- We are using MobileNet tf model which was already trained on ImageNet data-set ---- #\n",
        "# --- We would then train it on our required data-set , in this case, dogs vs cats dataset --- #\n",
        "\n",
        "url_mobileNet = \"https://tfhub.dev/google/tf2-preview/mobilenet_v2/feature_vector/2\" \n",
        "\n",
        "# As mobileNet is trained on ds having image resolution as 224*224*3, we need to provide the same dimension for the input\n",
        "\n",
        "IMG_SHAPE = 224\n",
        "\n",
        "# This url would return the model excluding the final class probability one \n",
        "# Therefore, this would just extract all the features from the given image by using proper/trained filters in Conv Layer\n",
        "\n",
        "feature_extracter = hub.KerasLayer(url_mobileNet,trainable=False,input_shape=(IMG_SHAPE,IMG_SHAPE,3))"
      ],
      "execution_count": 16,
      "outputs": []
    },
    {
      "cell_type": "markdown",
      "metadata": {
        "id": "LCjF2yl5eMOl"
      },
      "source": [
        "Now add the final classification layer to the model which would be trained on our own data-sets "
      ]
    },
    {
      "cell_type": "code",
      "metadata": {
        "colab": {
          "base_uri": "https://localhost:8080/"
        },
        "id": "bzPKutqVeXSX",
        "outputId": "79bf7fc5-1ef3-46c7-e32e-5ef3366fa314"
      },
      "source": [
        "model = tf.keras.Sequential([\n",
        "            feature_extracter,\n",
        "            tf.keras.layers.Dense(2,activation='softmax')\n",
        "])\n",
        "\n",
        "model.summary()"
      ],
      "execution_count": 24,
      "outputs": [
        {
          "output_type": "stream",
          "text": [
            "Model: \"sequential_2\"\n",
            "_________________________________________________________________\n",
            "Layer (type)                 Output Shape              Param #   \n",
            "=================================================================\n",
            "keras_layer_1 (KerasLayer)   (None, 1280)              2257984   \n",
            "_________________________________________________________________\n",
            "dense_2 (Dense)              (None, 2)                 2562      \n",
            "=================================================================\n",
            "Total params: 2,260,546\n",
            "Trainable params: 2,562\n",
            "Non-trainable params: 2,257,984\n",
            "_________________________________________________________________\n"
          ],
          "name": "stdout"
        }
      ]
    },
    {
      "cell_type": "markdown",
      "metadata": {
        "id": "1cRFCyA5fhFW"
      },
      "source": [
        "Compile Model"
      ]
    },
    {
      "cell_type": "code",
      "metadata": {
        "id": "UUMi4jJff_yq"
      },
      "source": [
        "model.compile(\n",
        "    optimizer = 'adam',\n",
        "    loss = tf.keras.losses.SparseCategoricalCrossentropy(from_logits=True) ,\n",
        "    metrics = ['accuracy']\n",
        ")\n",
        "\n",
        "es_callback = tf.keras.callbacks.EarlyStopping(patience=50) \n",
        "#model_checkpoint_TL = tf.keras.callbacks.ModelCheckpoint('best_model_TL.h5') this has some issues with tf hub latest version."
      ],
      "execution_count": 25,
      "outputs": []
    },
    {
      "cell_type": "markdown",
      "metadata": {
        "id": "9ubSc9ZPgh8R"
      },
      "source": [
        "Training our transfer learning model"
      ]
    },
    {
      "cell_type": "code",
      "metadata": {
        "id": "K2R0fmqlgmOL"
      },
      "source": [
        "history = model.fit_generator(\n",
        "    train_dataset,\n",
        "    steps_per_epoch = int(np.ceil(num_train/ float(BATCH_SIZE))),\n",
        "    epochs = 10,\n",
        "    validation_data = val_dataset,\n",
        "    validation_steps = int(np.ceil(num_val/ float(BATCH_SIZE))),\n",
        "    callbacks = [es_callback] \n",
        ")"
      ],
      "execution_count": null,
      "outputs": []
    },
    {
      "cell_type": "markdown",
      "metadata": {
        "id": "oE_LuEBIn-uy"
      },
      "source": [
        "GRAPH : TRAINING ACCURACY/LOSS VS VALIDATION ACCURACY/LOSS : USE TO DETERMINE THE OVER/UNDER FITTING ISSUES"
      ]
    },
    {
      "cell_type": "code",
      "metadata": {
        "id": "kDv5co5toVHs"
      },
      "source": [
        "train_accuracy = history.history['accuracy'] \n",
        "val_accuracy = history.history['val_accuracy']\n",
        "\n",
        "train_loss = history.history['loss']\n",
        "val_loss = history.history['val_loss']\n",
        "\n",
        "epochs_range = range(10) \n",
        "\n",
        "plt.figure(figsize=(8,8))\n",
        "\n",
        "plt.subplot(1,2,1) \n",
        "plt.plot(epochs_range,train_accuracy,label='Train_Acc') \n",
        "plt.plot(epochs_range,val_accuracy,label='Val_Acc')\n",
        "plt.legend()\n",
        "plt.title('Accuracy vs Epochs')\n",
        "\n",
        "plt.subplot(1,2,2)\n",
        "plt.plot(epochs_range,train_loss,label='Train_Loss')\n",
        "plt.plot(epochs_range,val_loss,label='Val_Loss')\n",
        "plt.legend()\n",
        "plt.title('Loss vs Epochs')\n",
        "\n",
        "\n"
      ],
      "execution_count": null,
      "outputs": []
    },
    {
      "cell_type": "markdown",
      "metadata": {
        "id": "dqpDHiwgugWs"
      },
      "source": [
        "PREDICTION USING THE TRAINED MODEL"
      ]
    },
    {
      "cell_type": "code",
      "metadata": {
        "id": "valt0gILwMhl"
      },
      "source": [
        "from PIL import Image\n",
        "import requests\n",
        "from io import BytesIO\n",
        "\n",
        "url_dog_eg = 'https://images.pexels.com/photos/1108099/pexels-photo-1108099.jpeg'\n",
        "\n",
        "response = requests.get(url_dog_eg)\n",
        "img = Image.open(BytesIO(response.content))\n",
        "\n",
        "img = img.resize( (IMG_SHAPE,IMG_SHAPE) )\n",
        "img = np.array(img)/255.0\n",
        "\n",
        "plt.imshow(img)\n",
        "\n",
        "# model always expect a batch of image to be processed at a time.\n",
        "# Hence, we need to add a new dimension to our image to make it compatible\n",
        "# The new dimension is just use to fake the batch dimension\n",
        "\n",
        "result = model.predict(img[np.newaxis,...])\n",
        "\n",
        "# # result is an array of array. The outer array contains inner array as result for each image of the batch\n",
        "\n",
        "# # as we have predicted only a single image , result[0] array will be our required result for that image\n",
        "\n",
        "result = np.argmax(result[0],axis=-1)\n",
        "\n",
        "if(result==1):\n",
        "  plt.title(\"PREDICTION : DOG\")\n",
        "else:\n",
        "  plt.title(\"PREDICTION : CAT\")\n"
      ],
      "execution_count": null,
      "outputs": []
    },
    {
      "cell_type": "code",
      "metadata": {
        "id": "5Xv4XGVH7iOl",
        "outputId": "63e5fad3-e8b3-48cc-9926-1534ce3b09bf",
        "colab": {
          "base_uri": "https://localhost:8080/"
        }
      },
      "source": [
        "# --- This concludes our CNN architecture for Image Classification --- #"
      ],
      "execution_count": 89,
      "outputs": [
        {
          "output_type": "stream",
          "text": [
            "10/10 [==============================] - 3s 339ms/step - loss: 0.0418 - accuracy: 0.9850\n"
          ],
          "name": "stdout"
        },
        {
          "output_type": "execute_result",
          "data": {
            "text/plain": [
              "[0.04180622473359108, 0.9850000143051147]"
            ]
          },
          "metadata": {
            "tags": []
          },
          "execution_count": 89
        }
      ]
    }
  ]
}